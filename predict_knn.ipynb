{
 "cells": [
  {
   "cell_type": "code",
   "execution_count": 5,
   "metadata": {
    "collapsed": true
   },
   "outputs": [],
   "source": [
    "import numpy as np\n",
    "import sklearn.neighbors\n",
    "from glob import glob\n",
    "import os"
   ]
  },
  {
   "cell_type": "code",
   "execution_count": 6,
   "metadata": {},
   "outputs": [],
   "source": [
    "trn_set_path = '/media/max/scratch/828/trainlist.txt_embeddings'\n",
    "tst_set_path = '/media/max/scratch/828/testlist.txt_embeddings'\n",
    "val_set_path = '/media/max/scratch/828/vallist.txt_embeddings'"
   ]
  },
  {
   "cell_type": "code",
   "execution_count": 40,
   "metadata": {},
   "outputs": [],
   "source": [
    "def load_set(loc):\n",
    "    data = []\n",
    "    labels = []\n",
    "    text_labels = []\n",
    "    for n in glob(os.path.join(loc, \"*.npy\")):\n",
    "        tl = os.path.basename(n).split('_')[1]\n",
    "        \n",
    "        if tl not in text_labels:\n",
    "            text_labels.append(tl)\n",
    "            \n",
    "        data.append(np.load(n))\n",
    "        labels.append(text_labels.index(tl))\n",
    "        \n",
    "    return {'data': np.vstack(data), 'labels': np.array(labels)}\n",
    "\n",
    "trn_set = load_set(trn_set_path)\n",
    "tst_set = load_set(tst_set_path)\n",
    "val_set = load_set(val_set_path)"
   ]
  },
  {
   "cell_type": "code",
   "execution_count": 41,
   "metadata": {},
   "outputs": [
    {
     "data": {
      "text/plain": [
       "KNeighborsClassifier(algorithm='auto', leaf_size=30, metric='minkowski',\n           metric_params=None, n_jobs=1, n_neighbors=5, p=2,\n           weights='uniform')"
      ]
     },
     "execution_count": 41,
     "metadata": {},
     "output_type": "execute_result"
    }
   ],
   "source": [
    "classifier = sklearn.neighbors.KNeighborsClassifier(n_neighbors=5)\n",
    "classifier.fit(trn_set['data'], trn_set['labels'])"
   ]
  },
  {
   "cell_type": "code",
   "execution_count": 42,
   "metadata": {},
   "outputs": [
    {
     "name": "stdout",
     "output_type": "stream",
     "text": [
      "Accuracy: 0.00503524672709 test, 0.00503018108652 validation\n"
     ]
    }
   ],
   "source": [
    "tst_accuracy = classifier.score(tst_set['data'], tst_set['labels'])\n",
    "val_accuracy = classifier.score(val_set['data'], val_set['labels'])\n",
    "\n",
    "print('Accuracy:', tst_accuracy, 'test,', val_accuracy, 'validation')"
   ]
  }
 ],
 "metadata": {
  "kernelspec": {
   "display_name": "Python 2",
   "language": "python",
   "name": "python2"
  },
  "language_info": {
   "codemirror_mode": {
    "name": "ipython",
    "version": 2
   },
   "file_extension": ".py",
   "mimetype": "text/x-python",
   "name": "python",
   "nbconvert_exporter": "python",
   "pygments_lexer": "ipython2",
   "version": "2.7.6"
  }
 },
 "nbformat": 4,
 "nbformat_minor": 0
}
